{
 "cells": [
  {
   "cell_type": "markdown",
   "metadata": {},
   "source": [
    "# Lab 07 -- More NN"
   ]
  },
  {
   "cell_type": "code",
   "execution_count": 1,
   "metadata": {
    "collapsed": false
   },
   "outputs": [
    {
     "name": "stdout",
     "output_type": "stream",
     "text": [
      "Populating the interactive namespace from numpy and matplotlib\n"
     ]
    }
   ],
   "source": [
    "%pylab inline"
   ]
  },
  {
   "cell_type": "markdown",
   "metadata": {},
   "source": [
    "# Goals for the lab\n",
    "- Repeat the logistic regression exercise but add tensorflow logging\n",
    "- Save the model weights\n",
    "- Add a hidden layer to the net"
   ]
  },
  {
   "cell_type": "code",
   "execution_count": 2,
   "metadata": {
    "collapsed": true
   },
   "outputs": [],
   "source": [
    "import tensorflow as tf\n",
    "import numpy as np\n",
    "import os"
   ]
  },
  {
   "cell_type": "code",
   "execution_count": 3,
   "metadata": {
    "collapsed": false
   },
   "outputs": [
    {
     "name": "stdout",
     "output_type": "stream",
     "text": [
      "Extracting data/MNIST/train-images-idx3-ubyte.gz\n",
      "Extracting data/MNIST/train-labels-idx1-ubyte.gz\n",
      "Extracting data/MNIST/t10k-images-idx3-ubyte.gz\n",
      "Extracting data/MNIST/t10k-labels-idx1-ubyte.gz\n"
     ]
    }
   ],
   "source": [
    "from tensorflow.examples.tutorials.mnist import input_data\n",
    "data = input_data.read_data_sets(\"data/MNIST/\", one_hot=True)"
   ]
  },
  {
   "cell_type": "code",
   "execution_count": 4,
   "metadata": {
    "collapsed": false
   },
   "outputs": [],
   "source": [
    "# The %run command executes a python file as if it was a cell in the notebook. \n",
    "%run plot_images.py"
   ]
  },
  {
   "cell_type": "code",
   "execution_count": 5,
   "metadata": {
    "collapsed": false
   },
   "outputs": [
    {
     "data": {
      "image/png": "[encoded data removed]",
      "text/plain": [
       "<matplotlib.figure.Figure at 0x7fc1481becd0>"
      ]
     },
     "metadata": {},
     "output_type": "display_data"
    }
   ],
   "source": [
    "x_batch, y_batch = data.train.next_batch(9)\n",
    "plot_images(x_batch, y_batch.argmax(1))"
   ]
  },
  {
   "cell_type": "markdown",
   "metadata": {},
   "source": [
    "# Set up a net to estimate/predict digits"
   ]
  },
  {
   "cell_type": "code",
   "execution_count": 6,
   "metadata": {
    "collapsed": true
   },
   "outputs": [],
   "source": [
    "#hyperparameters\n",
    "num_inputs = 28*28\n",
    "num_outputs = 10"
   ]
  },
  {
   "cell_type": "code",
   "execution_count": 7,
   "metadata": {
    "collapsed": true
   },
   "outputs": [],
   "source": [
    "tf.reset_default_graph()"
   ]
  },
  {
   "cell_type": "markdown",
   "metadata": {},
   "source": [
    "Input placeholders for the data `x` and the expected (1hot) labels `y`."
   ]
  },
  {
   "cell_type": "code",
   "execution_count": 8,
   "metadata": {
    "collapsed": false
   },
   "outputs": [],
   "source": [
    "with tf.name_scope('input'):\n",
    "    x = tf.placeholder(tf.float32, (None, 28*28), name='x')\n",
    "    y = tf.placeholder(tf.float32, (None, 10), name='y')\n",
    "    ec = tf.argmax(y, 1, name='ec') #[e]xpected [c]lass label\n",
    "  \n",
    "    # When this node is run, it will save an image to a log file.\n",
    "    #  - I am not assigning a variable to the result;,\n",
    "    #    all of the summary nodes can be collected by inspecting the graph later on. \n",
    "    tf.summary.image(\"image\", tf.reshape(x, [-1, 28,28,1]), max_outputs=3);"
   ]
  },
  {
   "cell_type": "markdown",
   "metadata": {},
   "source": [
    "In tensorflow, you can create nodes in the graph whose purpose is to save information to log files. The log files can be inspected using a tool called [TensorBoard](https://www.tensorflow.org/get_started/summaries_and_tensorboard). I hope to be able to demonstrate it later on in the notebook."
   ]
  },
  {
   "cell_type": "markdown",
   "metadata": {},
   "source": [
    "When we save data to the log file, the names become more important. We can group related nodes together using a 'name_scope' in order to make the log files easier to understand. "
   ]
  },
  {
   "cell_type": "code",
   "execution_count": 9,
   "metadata": {
    "collapsed": false
   },
   "outputs": [],
   "source": [
    "with tf.name_scope('output'):\n",
    "    b = tf.Variable(tf.zeros(num_outputs), name='b')\n",
    "    W = tf.Variable(tf.truncated_normal([num_inputs, num_outputs]), name='W')\n",
    "    a = tf.add(tf.matmul(x, W), b, name='a')\n",
    "    z = tf.nn.softmax(a, name='z')\n",
    "    pc = tf.argmax(z, 1, name='pc')  # [p]redicted [c]lass label\n",
    "    \n",
    "    # Create nodes that will save histograms to the log file\n",
    "    #  -- histograms are good summaries of the (large) amount of data in the weights. \n",
    "    #  -- The let you spot common issues with gradient descent (stalling, diverging)\n",
    "    tf.summary.histogram(\"weights\", W)\n",
    "    tf.summary.histogram(\"biases\", b)\n",
    "    tf.summary.histogram(\"activations\", pc)"
   ]
  },
  {
   "cell_type": "markdown",
   "metadata": {},
   "source": [
    "The net is now complete for doing _inference_ or _estimation_. That is, you could use it (if the weights were set). Right now the weights are randomly set, the results will be random."
   ]
  },
  {
   "cell_type": "code",
   "execution_count": 10,
   "metadata": {
    "collapsed": false
   },
   "outputs": [
    {
     "data": {
      "image/png": "[encoded data removed]",
      "text/plain": [
       "<matplotlib.figure.Figure at 0x7fc15b472110>"
      ]
     },
     "metadata": {},
     "output_type": "display_data"
    }
   ],
   "source": [
    "sess = tf.InteractiveSession()\n",
    "sess.run(tf.global_variables_initializer())\n",
    "\n",
    "x_batch, y_batch = data.test.next_batch(9)\n",
    "predictions = sess.run(pc, {x:x_batch, y:y_batch})\n",
    "plot_images(x_batch, y_batch.argmax(1), predictions)"
   ]
  },
  {
   "cell_type": "markdown",
   "metadata": {},
   "source": [
    "# Set up the net for evaluation"
   ]
  },
  {
   "cell_type": "code",
   "execution_count": 11,
   "metadata": {
    "collapsed": false
   },
   "outputs": [],
   "source": [
    "with tf.name_scope('accuracy'):\n",
    "    correct = tf.equal(ec, pc, name='correct')  # for each sample, did we get it right? \n",
    "    accuracy = tf.reduce_mean(tf.cast(correct, tf.float32), name='acc')\n",
    "\n",
    "    # Create a node to save the accuracy to a log file, \n",
    "    # so that we can go back and see how it improves after training. \n",
    "    tf.summary.scalar('accuracy', accuracy);"
   ]
  },
  {
   "cell_type": "code",
   "execution_count": 12,
   "metadata": {
    "collapsed": false
   },
   "outputs": [
    {
     "name": "stdout",
     "output_type": "stream",
     "text": [
      "Accuracy: 0.09\n",
      "Random chance is around 0.10 (10%)\n"
     ]
    }
   ],
   "source": [
    "# Normally, we would need to break the test data up into mini-batches.\n",
    "# however, this set is small enough that we will send the entire \n",
    "# test set in as one large batch. \n",
    "print \"Accuracy:\", sess.run(accuracy, {x:data.test.images, y:data.test.labels})\n",
    "print \"Random chance is around 0.10 (10%)\""
   ]
  },
  {
   "cell_type": "markdown",
   "metadata": {},
   "source": [
    "# Save the log/summary data"
   ]
  },
  {
   "cell_type": "markdown",
   "metadata": {},
   "source": [
    "Before we start training, let's look at the log data. "
   ]
  },
  {
   "cell_type": "markdown",
   "metadata": {},
   "source": [
    "*NOTE:* All log files will accumulate in the folder unless you delete them, or switch to a different log folder. If you are running this many times and adjusting settings, it is a good idea to think about how to choose differently named log folders for output. "
   ]
  },
  {
   "cell_type": "code",
   "execution_count": 13,
   "metadata": {
    "collapsed": false
   },
   "outputs": [],
   "source": [
    "!mkdir -p ./log/run0"
   ]
  },
  {
   "cell_type": "code",
   "execution_count": 14,
   "metadata": {
    "collapsed": false
   },
   "outputs": [],
   "source": [
    "# Collect all of the 'summary' nodes from the graph and generate a single log entry from them. \n",
    "summary = tf.summary.merge_all()"
   ]
  },
  {
   "cell_type": "code",
   "execution_count": 15,
   "metadata": {
    "collapsed": false
   },
   "outputs": [],
   "source": [
    "# A utility to save summarys to the log directory. \n",
    "#  -- This will create a file, each time we add a summary to the writer it gets appended to a log file.\n",
    "summary_writer = tf.summary.FileWriter('./log/run0', graph=sess.graph)"
   ]
  },
  {
   "cell_type": "code",
   "execution_count": 16,
   "metadata": {
    "collapsed": false
   },
   "outputs": [],
   "source": [
    "acc, log =  sess.run([accuracy, summary],\n",
    "                     {x:data.test.images, y:data.test.labels})\n",
    "summary_writer.add_summary(log, 0)"
   ]
  },
  {
   "cell_type": "markdown",
   "metadata": {},
   "source": [
    "In order to train the net, we need to define an objective function to minimize. In this case we will use the cross-entropy loss because our output it a softmax classification. "
   ]
  },
  {
   "cell_type": "code",
   "execution_count": 17,
   "metadata": {
    "collapsed": false
   },
   "outputs": [
    {
     "name": "stdout",
     "output_type": "stream",
     "text": [
      "Acuracy: 0.09\n",
      "\n",
      "Make sure the correct conda environment is active, then run:\n",
      "    tensorboard --logdir='/home/femianjc/Courses/cse627a (Machine Learning)/cse627a/labs/lab-07/log' \n",
      "and open\n",
      "    http://localhost:6006/\n",
      "using your web browser\n"
     ]
    }
   ],
   "source": [
    "from pipes import quote\n",
    "print \"Acuracy:\", acc\n",
    "print \n",
    "print \"Make sure the correct conda environment is active, then run:\"\n",
    "print \"    tensorboard --logdir={} \".format(quote(os.path.abspath('./log')))\n",
    "print \"and open\"\n",
    "print \"    http://localhost:6006/\"\n",
    "print \"using your web browser\""
   ]
  },
  {
   "cell_type": "markdown",
   "metadata": {},
   "source": [
    "# Set up the graph for training"
   ]
  },
  {
   "cell_type": "code",
   "execution_count": 18,
   "metadata": {
    "collapsed": false
   },
   "outputs": [],
   "source": [
    "with tf.name_scope('loss'):\n",
    "    cross_entropy = tf.nn.softmax_cross_entropy_with_logits(labels=y, logits=a)\n",
    "    loss = tf.reduce_mean(cross_entropy, name='loss')\n",
    "\n",
    "    # And define a node to log it\n",
    "    tf.summary.scalar('loss', loss);"
   ]
  },
  {
   "cell_type": "code",
   "execution_count": 19,
   "metadata": {
    "collapsed": true
   },
   "outputs": [],
   "source": [
    "with tf.name_scope('solver'):\n",
    "    solver = tf.train.AdamOptimizer()\n",
    "    optimize = solver.minimize(loss)"
   ]
  },
  {
   "cell_type": "code",
   "execution_count": 20,
   "metadata": {
    "collapsed": true
   },
   "outputs": [],
   "source": [
    "summary_writer = tf.summary.FileWriter('./log/run1/', graph=sess.graph)"
   ]
  },
  {
   "cell_type": "code",
   "execution_count": 21,
   "metadata": {
    "collapsed": false
   },
   "outputs": [],
   "source": [
    "# The solver has some parameters that need to be initializes\n",
    "sess.run(tf.global_variables_initializer())"
   ]
  },
  {
   "cell_type": "code",
   "execution_count": 22,
   "metadata": {
    "collapsed": true
   },
   "outputs": [],
   "source": [
    "# Add ops to save and restore all the variables.\n",
    "saver = tf.train.Saver()"
   ]
  },
  {
   "cell_type": "code",
   "execution_count": 30,
   "metadata": {
    "collapsed": false
   },
   "outputs": [
    {
     "name": "stdout",
     "output_type": "stream",
     "text": [
      "INFO:tensorflow:Restoring parameters from ./models/logreg.cpt\n",
      "Epoch: 0001 cost= 0.267705426\n",
      "Epoch: 0002 cost= 0.264914170\n",
      "Epoch: 0003 cost= 0.269427105\n",
      "Epoch: 0004 cost= 0.260386707\n",
      "Epoch: 0005 cost= 0.261413748\n",
      "Epoch: 0006 cost= 0.261157039\n",
      "Epoch: 0007 cost= 0.258412323\n",
      "Epoch: 0008 cost= 0.261001475\n",
      "Epoch: 0009 cost= 0.258473132\n",
      "Epoch: 0010 cost= 0.256711671\n",
      "Epoch: 0011 cost= 0.252791907\n",
      "Epoch: 0012 cost= 0.256624895\n",
      "Epoch: 0013 cost= 0.256104318\n",
      "Epoch: 0014 cost= 0.252803893\n",
      "Epoch: 0015 cost= 0.252220531\n",
      "Epoch: 0016 cost= 0.249910948\n",
      "Epoch: 0017 cost= 0.253717895\n",
      "Epoch: 0018 cost= 0.247263897\n",
      "Epoch: 0019 cost= 0.250778263\n",
      "Epoch: 0020 cost= 0.247257715\n"
     ]
    }
   ],
   "source": [
    " # Training cycle\n",
    "batch_size=100\n",
    "training_epochs=20\n",
    "display_epoch=1\n",
    "\n",
    "try:\n",
    "    saver.restore(sess, './models/logreg.cpt')\n",
    "except:\n",
    "    print \"No model to restore\"\n",
    "\n",
    "for epoch in range(training_epochs):\n",
    "    avg_loss = 0.\n",
    "    total_batch = int(data.train.num_examples/batch_size)\n",
    "    \n",
    "    for i in range(total_batch):\n",
    "        batch_xs, batch_ys = data.train.next_batch(batch_size)\n",
    "       \n",
    "        _, loss_, summary_ = sess.run([optimize, loss, summary],\n",
    "                                    {x: batch_xs, y: batch_ys})\n",
    "        \n",
    "        global_iteration =  epoch * total_batch + i\n",
    "        summary_writer.add_summary(summary_, global_iteration)\n",
    "        \n",
    "        avg_loss += loss_ / total_batch\n",
    "        \n",
    "    \n",
    "    # Display logs per epoch step\n",
    "    if (epoch+1) % display_epoch == 0:\n",
    "        print \"Epoch:\", '%04d' % (epoch+1), \"cost=\", \"{:.9f}\".format(avg_loss)\n",
    "    \n",
    "    saver.save(sess, './models/logreg.cpt')"
   ]
  },
  {
   "cell_type": "markdown",
   "metadata": {},
   "source": [
    "# TODO / Exercise"
   ]
  },
  {
   "cell_type": "markdown",
   "metadata": {},
   "source": [
    "Let's go back and add a hidden layer"
   ]
  },
  {
   "cell_type": "code",
   "execution_count": null,
   "metadata": {
    "collapsed": true
   },
   "outputs": [],
   "source": []
  }
 ],
 "metadata": {
  "kernelspec": {
   "display_name": "Python [conda env:ml]",
   "language": "python",
   "name": "conda-env-ml-py"
  },
  "language_info": {
   "codemirror_mode": {
    "name": "ipython",
    "version": 2
   },
   "file_extension": ".py",
   "mimetype": "text/x-python",
   "name": "python",
   "nbconvert_exporter": "python",
   "pygments_lexer": "ipython2",
   "version": "2.7.13"
  }
 },
 "nbformat": 4,
 "nbformat_minor": 2
}
